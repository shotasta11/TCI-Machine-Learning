{
  "nbformat": 4,
  "nbformat_minor": 0,
  "metadata": {
    "kernelspec": {
      "display_name": "Python 3",
      "language": "python",
      "name": "python3"
    },
    "language_info": {
      "codemirror_mode": {
        "name": "ipython",
        "version": 3
      },
      "file_extension": ".py",
      "mimetype": "text/x-python",
      "name": "python",
      "nbconvert_exporter": "python",
      "pygments_lexer": "ipython3",
      "version": "3.7.6"
    },
    "colab": {
      "name": "konversi nc ke csv.ipynb",
      "provenance": []
    }
  },
  "cells": [
    {
      "cell_type": "code",
      "metadata": {
        "id": "6PSI7skVs1ax"
      },
      "source": [
        "#importing libraries\n",
        "from netCDF4 import Dataset\n",
        "from netCDF4 import num2date\n",
        "import numpy as np\n",
        "import os\n",
        "import pandas as pd\n",
        "from datetime import datetime"
      ],
      "execution_count": null,
      "outputs": []
    },
    {
      "cell_type": "code",
      "metadata": {
        "id": "XqcXO0RZs1a2"
      },
      "source": [
        "#Reading the netcdf file\n",
        "data = Dataset(r'D:\\datanc\\ERA5_temperature.nc','r')"
      ],
      "execution_count": null,
      "outputs": []
    },
    {
      "cell_type": "code",
      "metadata": {
        "id": "_wElxy0ps1a4",
        "outputId": "09f68655-b848-4fd4-e6c3-b01f3b0c91e6"
      },
      "source": [
        "data"
      ],
      "execution_count": null,
      "outputs": [
        {
          "output_type": "execute_result",
          "data": {
            "text/plain": [
              "<class 'netCDF4._netCDF4.Dataset'>\n",
              "root group (NETCDF3_64BIT data model, file format NETCDF3):\n",
              "    Conventions: CF-1.6\n",
              "    history: 2021-05-22 18:02:06 GMT by grib_to_netcdf-2.16.0: /opt/ecmwf/eccodes/bin/grib_to_netcdf -S param -o /cache/data0/adaptor.mars.internal-1621701734.6816711-30064-11-a747bf5b-6454-4a56-8e5d-ba4dffaf7866.nc /cache/tmp/a747bf5b-6454-4a56-8e5d-ba4dffaf7866-adaptor.mars.internal-1621701734.6822758-30064-4-tmp.grib\n",
              "    dimensions(sizes): longitude(25), latitude(14), time(10201)\n",
              "    variables(dimensions): float32 longitude(longitude), float32 latitude(latitude), int32 time(time), int16 d2m(time,latitude,longitude), int16 t2m(time,latitude,longitude), int16 skt(time,latitude,longitude)\n",
              "    groups: "
            ]
          },
          "metadata": {
            "tags": []
          },
          "execution_count": 3
        }
      ]
    },
    {
      "cell_type": "code",
      "metadata": {
        "id": "N3pYt5QIs1a6",
        "outputId": "567cc84b-0f61-4831-bb28-70d254f35613"
      },
      "source": [
        "print(data.variables.keys())"
      ],
      "execution_count": null,
      "outputs": [
        {
          "output_type": "stream",
          "text": [
            "dict_keys(['longitude', 'latitude', 'time', 'd2m', 't2m', 'skt'])\n"
          ],
          "name": "stdout"
        }
      ]
    },
    {
      "cell_type": "code",
      "metadata": {
        "id": "iypzO8r4s1a-"
      },
      "source": [
        "#Accessing the data from variables\n",
        "\n",
        "time = data.variables['time'][:]\n",
        "lon = data.variables['longitude'][:]\n",
        "lat = data.variables['latitude'][:]"
      ],
      "execution_count": null,
      "outputs": []
    },
    {
      "cell_type": "code",
      "metadata": {
        "id": "uKQeMLZLs1a_"
      },
      "source": [
        "#Storing coordinate of study area\n",
        "lat_bali =  -8.5511\n",
        "lon_bali =  115.1216 \n",
        "\n",
        "\n",
        "#Squared difference of coordinates\n",
        "sq_diff_lat = (lat_bali - lat)**2\n",
        "sq_diff_lon = (lon_bali - lon)**2\n",
        "\n",
        "#Identifying the index of minimum value of coordinates\n",
        "min_index_lat = sq_diff_lat.argmin()\n",
        "min_index_lon = sq_diff_lon.argmin()"
      ],
      "execution_count": null,
      "outputs": []
    },
    {
      "cell_type": "code",
      "metadata": {
        "id": "Q8hK4MgEs1bA"
      },
      "source": [
        "#Parameter dari data nc\n",
        "p = data.variables['skt']"
      ],
      "execution_count": null,
      "outputs": []
    },
    {
      "cell_type": "code",
      "metadata": {
        "id": "2htHnF1ls1bB",
        "outputId": "24f666a6-e8ef-46e3-e6f1-edc75beb78cb"
      },
      "source": [
        "idx = pd.date_range(\"2020-01-01\", periods=10201, freq=\"H\")\n",
        "\n",
        "ts = pd.Series(range(len(idx)), index=idx)\n",
        "\n",
        "ts"
      ],
      "execution_count": null,
      "outputs": [
        {
          "output_type": "execute_result",
          "data": {
            "text/plain": [
              "2020-01-01 00:00:00        0\n",
              "2020-01-01 01:00:00        1\n",
              "2020-01-01 02:00:00        2\n",
              "2020-01-01 03:00:00        3\n",
              "2020-01-01 04:00:00        4\n",
              "                       ...  \n",
              "2021-02-28 20:00:00    10196\n",
              "2021-02-28 21:00:00    10197\n",
              "2021-02-28 22:00:00    10198\n",
              "2021-02-28 23:00:00    10199\n",
              "2021-03-01 00:00:00    10200\n",
              "Freq: H, Length: 10201, dtype: int64"
            ]
          },
          "metadata": {
            "tags": []
          },
          "execution_count": 8
        }
      ]
    },
    {
      "cell_type": "code",
      "metadata": {
        "id": "P1Zij9t3s1bD",
        "outputId": "e0379eea-113a-4bb1-ec5e-1cffe4e07545"
      },
      "source": [
        "print(p.dimensions)"
      ],
      "execution_count": null,
      "outputs": [
        {
          "output_type": "stream",
          "text": [
            "('time', 'latitude', 'longitude')\n"
          ],
          "name": "stdout"
        }
      ]
    },
    {
      "cell_type": "code",
      "metadata": {
        "id": "M6U2bF8Ls1bG"
      },
      "source": [
        "df = pd.DataFrame(0, columns=['skt'],index = idx)"
      ],
      "execution_count": null,
      "outputs": []
    },
    {
      "cell_type": "code",
      "metadata": {
        "id": "3l7qI7xXs1bH"
      },
      "source": [
        "dt = np.arange(0,data.variables['time'].size)"
      ],
      "execution_count": null,
      "outputs": []
    },
    {
      "cell_type": "code",
      "metadata": {
        "id": "_tIhn5p0s1bI"
      },
      "source": [
        "for time_index in dt:\n",
        "    df.iloc[time_index] = p[time_index,min_index_lat,min_index_lon]\n"
      ],
      "execution_count": null,
      "outputs": []
    },
    {
      "cell_type": "code",
      "metadata": {
        "id": "eCqSg6ojs1bK",
        "outputId": "1eba64b4-7c0e-436f-d96f-84359a83188a"
      },
      "source": [
        "df"
      ],
      "execution_count": null,
      "outputs": [
        {
          "output_type": "execute_result",
          "data": {
            "text/html": [
              "<div>\n",
              "<style scoped>\n",
              "    .dataframe tbody tr th:only-of-type {\n",
              "        vertical-align: middle;\n",
              "    }\n",
              "\n",
              "    .dataframe tbody tr th {\n",
              "        vertical-align: top;\n",
              "    }\n",
              "\n",
              "    .dataframe thead th {\n",
              "        text-align: right;\n",
              "    }\n",
              "</style>\n",
              "<table border=\"1\" class=\"dataframe\">\n",
              "  <thead>\n",
              "    <tr style=\"text-align: right;\">\n",
              "      <th></th>\n",
              "      <th>skt</th>\n",
              "    </tr>\n",
              "  </thead>\n",
              "  <tbody>\n",
              "    <tr>\n",
              "      <th>2020-01-01 00:00:00</th>\n",
              "      <td>300.684602</td>\n",
              "    </tr>\n",
              "    <tr>\n",
              "      <th>2020-01-01 01:00:00</th>\n",
              "      <td>299.671909</td>\n",
              "    </tr>\n",
              "    <tr>\n",
              "      <th>2020-01-01 02:00:00</th>\n",
              "      <td>299.961250</td>\n",
              "    </tr>\n",
              "    <tr>\n",
              "      <th>2020-01-01 03:00:00</th>\n",
              "      <td>300.316197</td>\n",
              "    </tr>\n",
              "    <tr>\n",
              "      <th>2020-01-01 04:00:00</th>\n",
              "      <td>300.027417</td>\n",
              "    </tr>\n",
              "    <tr>\n",
              "      <th>...</th>\n",
              "      <td>...</td>\n",
              "    </tr>\n",
              "    <tr>\n",
              "      <th>2021-02-28 20:00:00</th>\n",
              "      <td>297.118310</td>\n",
              "    </tr>\n",
              "    <tr>\n",
              "      <th>2021-02-28 21:00:00</th>\n",
              "      <td>296.994387</td>\n",
              "    </tr>\n",
              "    <tr>\n",
              "      <th>2021-02-28 22:00:00</th>\n",
              "      <td>297.001116</td>\n",
              "    </tr>\n",
              "    <tr>\n",
              "      <th>2021-02-28 23:00:00</th>\n",
              "      <td>297.204663</td>\n",
              "    </tr>\n",
              "    <tr>\n",
              "      <th>2021-03-01 00:00:00</th>\n",
              "      <td>0.000000</td>\n",
              "    </tr>\n",
              "  </tbody>\n",
              "</table>\n",
              "<p>10201 rows × 1 columns</p>\n",
              "</div>"
            ],
            "text/plain": [
              "                            skt\n",
              "2020-01-01 00:00:00  300.684602\n",
              "2020-01-01 01:00:00  299.671909\n",
              "2020-01-01 02:00:00  299.961250\n",
              "2020-01-01 03:00:00  300.316197\n",
              "2020-01-01 04:00:00  300.027417\n",
              "...                         ...\n",
              "2021-02-28 20:00:00  297.118310\n",
              "2021-02-28 21:00:00  296.994387\n",
              "2021-02-28 22:00:00  297.001116\n",
              "2021-02-28 23:00:00  297.204663\n",
              "2021-03-01 00:00:00    0.000000\n",
              "\n",
              "[10201 rows x 1 columns]"
            ]
          },
          "metadata": {
            "tags": []
          },
          "execution_count": 14
        }
      ]
    },
    {
      "cell_type": "code",
      "metadata": {
        "id": "Glqc2lDds1bM"
      },
      "source": [
        "#Saving the time series into the csv\n",
        "df.to_excel(\"dataskt_Tabanan.xlsx\")"
      ],
      "execution_count": null,
      "outputs": []
    },
    {
      "cell_type": "code",
      "metadata": {
        "id": "D-Kj4Laus1bO"
      },
      "source": [
        ""
      ],
      "execution_count": null,
      "outputs": []
    }
  ]
}